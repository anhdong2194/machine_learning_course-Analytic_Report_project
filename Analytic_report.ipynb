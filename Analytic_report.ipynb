{
 "cells": [
  {
   "cell_type": "code",
   "execution_count": 1,
   "metadata": {},
   "outputs": [],
   "source": [
    "import pandas as pd\n",
    "import numpy as np\n",
    "import os\n",
    "import json\n",
    "import matplotlib.pyplot as plt\n",
    "import warnings\n",
    "import calendar\n",
    "import seaborn as sns\n",
    "import datetime\n",
    "warnings.filterwarnings('ignore')\n",
    "\n",
    "filepath_movies = '/home/dongho/Desktop/machine_learning_course/home_excercise/excercise_2/tmdb-5000-movie-dataset/tmdb_5000_movies.csv'\n",
    "filepath_credit = '/home/dongho/Desktop/machine_learning_course/home_excercise/excercise_2/tmdb-5000-movie-dataset/tmdb_5000_credits.csv'\n",
    "movies = pd.read_csv(filepath_movies)\n",
    "credit = pd.read_csv(filepath_credit)"
   ]
  },
  {
   "cell_type": "code",
   "execution_count": 2,
   "metadata": {},
   "outputs": [],
   "source": [
    "def load_tmdb_movies(path):\n",
    "    data = pd.read_csv(path)\n",
    "    data['release_date'] = pd.to_datetime(data['release_date']).apply(lambda x: x.date())\n",
    "    json_columns = ['genres', 'keywords', 'production_countries', 'production_companies', 'spoken_languages']\n",
    "    for column in json_columns:\n",
    "        data[column] = data[column].apply(json.loads)\n",
    "    return data\n",
    "\n",
    "def load_tmdb_credits(path):\n",
    "    data = pd.read_csv(path)\n",
    "    json_columns = ['cast', 'crew']\n",
    "    for column in json_columns:\n",
    "        data[column] = data[column].apply(json.loads)\n",
    "    return data\n",
    "\n",
    "def pipe_flatten_names(keywords):\n",
    "    return '|'.join([x['name'] for x in keywords])"
   ]
  },
  {
   "cell_type": "code",
   "execution_count": 3,
   "metadata": {},
   "outputs": [],
   "source": [
    "credits = load_tmdb_credits(filepath_credit)\n",
    "movies = load_tmdb_movies(filepath_movies)"
   ]
  },
  {
   "cell_type": "code",
   "execution_count": 4,
   "metadata": {},
   "outputs": [],
   "source": [
    "del credits['title']\n",
    "data = pd.concat([movies, credits], axis=1)"
   ]
  },
  {
   "cell_type": "code",
   "execution_count": 5,
   "metadata": {},
   "outputs": [
    {
     "data": {
      "text/plain": [
       "['budget',\n",
       " 'genres',\n",
       " 'homepage',\n",
       " 'id',\n",
       " 'keywords',\n",
       " 'original_language',\n",
       " 'original_title',\n",
       " 'overview',\n",
       " 'popularity',\n",
       " 'production_companies',\n",
       " 'production_countries',\n",
       " 'release_date',\n",
       " 'revenue',\n",
       " 'runtime',\n",
       " 'spoken_languages',\n",
       " 'status',\n",
       " 'tagline',\n",
       " 'title',\n",
       " 'vote_average',\n",
       " 'vote_count',\n",
       " 'movie_id',\n",
       " 'cast',\n",
       " 'crew']"
      ]
     },
     "execution_count": 5,
     "metadata": {},
     "output_type": "execute_result"
    }
   ],
   "source": [
    "data.columns.tolist()"
   ]
  },
  {
   "cell_type": "code",
   "execution_count": 6,
   "metadata": {},
   "outputs": [
    {
     "data": {
      "text/html": [
       "<div>\n",
       "<style scoped>\n",
       "    .dataframe tbody tr th:only-of-type {\n",
       "        vertical-align: middle;\n",
       "    }\n",
       "\n",
       "    .dataframe tbody tr th {\n",
       "        vertical-align: top;\n",
       "    }\n",
       "\n",
       "    .dataframe thead th {\n",
       "        text-align: right;\n",
       "    }\n",
       "</style>\n",
       "<table border=\"1\" class=\"dataframe\">\n",
       "  <thead>\n",
       "    <tr style=\"text-align: right;\">\n",
       "      <th></th>\n",
       "      <th>budget</th>\n",
       "      <th>genres</th>\n",
       "      <th>homepage</th>\n",
       "      <th>id</th>\n",
       "      <th>keywords</th>\n",
       "      <th>original_language</th>\n",
       "      <th>original_title</th>\n",
       "      <th>overview</th>\n",
       "      <th>popularity</th>\n",
       "      <th>production_companies</th>\n",
       "      <th>...</th>\n",
       "      <th>runtime</th>\n",
       "      <th>spoken_languages</th>\n",
       "      <th>status</th>\n",
       "      <th>tagline</th>\n",
       "      <th>title</th>\n",
       "      <th>vote_average</th>\n",
       "      <th>vote_count</th>\n",
       "      <th>movie_id</th>\n",
       "      <th>cast</th>\n",
       "      <th>crew</th>\n",
       "    </tr>\n",
       "  </thead>\n",
       "  <tbody>\n",
       "    <tr>\n",
       "      <th>0</th>\n",
       "      <td>237000000</td>\n",
       "      <td>[{'name': 'Action', 'id': 28}, {'name': 'Adven...</td>\n",
       "      <td>http://www.avatarmovie.com/</td>\n",
       "      <td>19995</td>\n",
       "      <td>[{'name': 'culture clash', 'id': 1463}, {'name...</td>\n",
       "      <td>en</td>\n",
       "      <td>Avatar</td>\n",
       "      <td>In the 22nd century, a paraplegic Marine is di...</td>\n",
       "      <td>150.437577</td>\n",
       "      <td>[{'name': 'Ingenious Film Partners', 'id': 289...</td>\n",
       "      <td>...</td>\n",
       "      <td>162.0</td>\n",
       "      <td>[{'name': 'English', 'iso_639_1': 'en'}, {'nam...</td>\n",
       "      <td>Released</td>\n",
       "      <td>Enter the World of Pandora.</td>\n",
       "      <td>Avatar</td>\n",
       "      <td>7.2</td>\n",
       "      <td>11800</td>\n",
       "      <td>19995</td>\n",
       "      <td>[{'order': 0, 'character': 'Jake Sully', 'cred...</td>\n",
       "      <td>[{'department': 'Editing', 'job': 'Editor', 'c...</td>\n",
       "    </tr>\n",
       "    <tr>\n",
       "      <th>1</th>\n",
       "      <td>300000000</td>\n",
       "      <td>[{'name': 'Adventure', 'id': 12}, {'name': 'Fa...</td>\n",
       "      <td>http://disney.go.com/disneypictures/pirates/</td>\n",
       "      <td>285</td>\n",
       "      <td>[{'name': 'ocean', 'id': 270}, {'name': 'drug ...</td>\n",
       "      <td>en</td>\n",
       "      <td>Pirates of the Caribbean: At World's End</td>\n",
       "      <td>Captain Barbossa, long believed to be dead, ha...</td>\n",
       "      <td>139.082615</td>\n",
       "      <td>[{'name': 'Walt Disney Pictures', 'id': 2}, {'...</td>\n",
       "      <td>...</td>\n",
       "      <td>169.0</td>\n",
       "      <td>[{'name': 'English', 'iso_639_1': 'en'}]</td>\n",
       "      <td>Released</td>\n",
       "      <td>At the end of the world, the adventure begins.</td>\n",
       "      <td>Pirates of the Caribbean: At World's End</td>\n",
       "      <td>6.9</td>\n",
       "      <td>4500</td>\n",
       "      <td>285</td>\n",
       "      <td>[{'order': 0, 'character': 'Captain Jack Sparr...</td>\n",
       "      <td>[{'department': 'Camera', 'job': 'Director of ...</td>\n",
       "    </tr>\n",
       "    <tr>\n",
       "      <th>2</th>\n",
       "      <td>245000000</td>\n",
       "      <td>[{'name': 'Action', 'id': 28}, {'name': 'Adven...</td>\n",
       "      <td>http://www.sonypictures.com/movies/spectre/</td>\n",
       "      <td>206647</td>\n",
       "      <td>[{'name': 'spy', 'id': 470}, {'name': 'based o...</td>\n",
       "      <td>en</td>\n",
       "      <td>Spectre</td>\n",
       "      <td>A cryptic message from Bond’s past sends him o...</td>\n",
       "      <td>107.376788</td>\n",
       "      <td>[{'name': 'Columbia Pictures', 'id': 5}, {'nam...</td>\n",
       "      <td>...</td>\n",
       "      <td>148.0</td>\n",
       "      <td>[{'name': 'Français', 'iso_639_1': 'fr'}, {'na...</td>\n",
       "      <td>Released</td>\n",
       "      <td>A Plan No One Escapes</td>\n",
       "      <td>Spectre</td>\n",
       "      <td>6.3</td>\n",
       "      <td>4466</td>\n",
       "      <td>206647</td>\n",
       "      <td>[{'order': 0, 'character': 'James Bond', 'cred...</td>\n",
       "      <td>[{'department': 'Sound', 'job': 'Original Musi...</td>\n",
       "    </tr>\n",
       "    <tr>\n",
       "      <th>3</th>\n",
       "      <td>250000000</td>\n",
       "      <td>[{'name': 'Action', 'id': 28}, {'name': 'Crime...</td>\n",
       "      <td>http://www.thedarkknightrises.com/</td>\n",
       "      <td>49026</td>\n",
       "      <td>[{'name': 'dc comics', 'id': 849}, {'name': 'c...</td>\n",
       "      <td>en</td>\n",
       "      <td>The Dark Knight Rises</td>\n",
       "      <td>Following the death of District Attorney Harve...</td>\n",
       "      <td>112.312950</td>\n",
       "      <td>[{'name': 'Legendary Pictures', 'id': 923}, {'...</td>\n",
       "      <td>...</td>\n",
       "      <td>165.0</td>\n",
       "      <td>[{'name': 'English', 'iso_639_1': 'en'}]</td>\n",
       "      <td>Released</td>\n",
       "      <td>The Legend Ends</td>\n",
       "      <td>The Dark Knight Rises</td>\n",
       "      <td>7.6</td>\n",
       "      <td>9106</td>\n",
       "      <td>49026</td>\n",
       "      <td>[{'order': 0, 'character': 'Bruce Wayne / Batm...</td>\n",
       "      <td>[{'department': 'Sound', 'job': 'Original Musi...</td>\n",
       "    </tr>\n",
       "  </tbody>\n",
       "</table>\n",
       "<p>4 rows × 23 columns</p>\n",
       "</div>"
      ],
      "text/plain": [
       "      budget                                             genres  \\\n",
       "0  237000000  [{'name': 'Action', 'id': 28}, {'name': 'Adven...   \n",
       "1  300000000  [{'name': 'Adventure', 'id': 12}, {'name': 'Fa...   \n",
       "2  245000000  [{'name': 'Action', 'id': 28}, {'name': 'Adven...   \n",
       "3  250000000  [{'name': 'Action', 'id': 28}, {'name': 'Crime...   \n",
       "\n",
       "                                       homepage      id  \\\n",
       "0                   http://www.avatarmovie.com/   19995   \n",
       "1  http://disney.go.com/disneypictures/pirates/     285   \n",
       "2   http://www.sonypictures.com/movies/spectre/  206647   \n",
       "3            http://www.thedarkknightrises.com/   49026   \n",
       "\n",
       "                                            keywords original_language  \\\n",
       "0  [{'name': 'culture clash', 'id': 1463}, {'name...                en   \n",
       "1  [{'name': 'ocean', 'id': 270}, {'name': 'drug ...                en   \n",
       "2  [{'name': 'spy', 'id': 470}, {'name': 'based o...                en   \n",
       "3  [{'name': 'dc comics', 'id': 849}, {'name': 'c...                en   \n",
       "\n",
       "                             original_title  \\\n",
       "0                                    Avatar   \n",
       "1  Pirates of the Caribbean: At World's End   \n",
       "2                                   Spectre   \n",
       "3                     The Dark Knight Rises   \n",
       "\n",
       "                                            overview  popularity  \\\n",
       "0  In the 22nd century, a paraplegic Marine is di...  150.437577   \n",
       "1  Captain Barbossa, long believed to be dead, ha...  139.082615   \n",
       "2  A cryptic message from Bond’s past sends him o...  107.376788   \n",
       "3  Following the death of District Attorney Harve...  112.312950   \n",
       "\n",
       "                                production_companies  \\\n",
       "0  [{'name': 'Ingenious Film Partners', 'id': 289...   \n",
       "1  [{'name': 'Walt Disney Pictures', 'id': 2}, {'...   \n",
       "2  [{'name': 'Columbia Pictures', 'id': 5}, {'nam...   \n",
       "3  [{'name': 'Legendary Pictures', 'id': 923}, {'...   \n",
       "\n",
       "                         ...                         runtime  \\\n",
       "0                        ...                           162.0   \n",
       "1                        ...                           169.0   \n",
       "2                        ...                           148.0   \n",
       "3                        ...                           165.0   \n",
       "\n",
       "                                    spoken_languages    status  \\\n",
       "0  [{'name': 'English', 'iso_639_1': 'en'}, {'nam...  Released   \n",
       "1           [{'name': 'English', 'iso_639_1': 'en'}]  Released   \n",
       "2  [{'name': 'Français', 'iso_639_1': 'fr'}, {'na...  Released   \n",
       "3           [{'name': 'English', 'iso_639_1': 'en'}]  Released   \n",
       "\n",
       "                                          tagline  \\\n",
       "0                     Enter the World of Pandora.   \n",
       "1  At the end of the world, the adventure begins.   \n",
       "2                           A Plan No One Escapes   \n",
       "3                                 The Legend Ends   \n",
       "\n",
       "                                      title vote_average vote_count movie_id  \\\n",
       "0                                    Avatar          7.2      11800    19995   \n",
       "1  Pirates of the Caribbean: At World's End          6.9       4500      285   \n",
       "2                                   Spectre          6.3       4466   206647   \n",
       "3                     The Dark Knight Rises          7.6       9106    49026   \n",
       "\n",
       "                                                cast  \\\n",
       "0  [{'order': 0, 'character': 'Jake Sully', 'cred...   \n",
       "1  [{'order': 0, 'character': 'Captain Jack Sparr...   \n",
       "2  [{'order': 0, 'character': 'James Bond', 'cred...   \n",
       "3  [{'order': 0, 'character': 'Bruce Wayne / Batm...   \n",
       "\n",
       "                                                crew  \n",
       "0  [{'department': 'Editing', 'job': 'Editor', 'c...  \n",
       "1  [{'department': 'Camera', 'job': 'Director of ...  \n",
       "2  [{'department': 'Sound', 'job': 'Original Musi...  \n",
       "3  [{'department': 'Sound', 'job': 'Original Musi...  \n",
       "\n",
       "[4 rows x 23 columns]"
      ]
     },
     "execution_count": 6,
     "metadata": {},
     "output_type": "execute_result"
    }
   ],
   "source": [
    "data.head(4)"
   ]
  },
  {
   "cell_type": "code",
   "execution_count": 7,
   "metadata": {},
   "outputs": [],
   "source": [
    "data['genres'] = data['genres'].apply(pipe_flatten_names)"
   ]
  },
  {
   "cell_type": "code",
   "execution_count": 8,
   "metadata": {},
   "outputs": [],
   "source": [
    "liste_genres = set()\n",
    "for s in data['genres'].str.split('|'):\n",
    "    liste_genres = set().union(s, liste_genres)\n",
    "liste_genres = list(liste_genres)\n",
    "liste_genres.remove('')"
   ]
  },
  {
   "cell_type": "code",
   "execution_count": 9,
   "metadata": {},
   "outputs": [],
   "source": [
    "data['spoken_languages'] = data['spoken_languages'].apply(pipe_flatten_names)"
   ]
  },
  {
   "cell_type": "code",
   "execution_count": 10,
   "metadata": {},
   "outputs": [],
   "source": [
    "liste_genres = set()\n",
    "for s in data['spoken_languages'].str.split('|'):\n",
    "    liste_genres = set().union(s, liste_genres)\n",
    "liste_genres = list(liste_genres)\n",
    "liste_genres.remove('')"
   ]
  },
  {
   "cell_type": "code",
   "execution_count": 11,
   "metadata": {},
   "outputs": [],
   "source": [
    "data['production_companies'] = data['production_companies'].apply(pipe_flatten_names)"
   ]
  },
  {
   "cell_type": "code",
   "execution_count": 12,
   "metadata": {},
   "outputs": [],
   "source": [
    "liste_genres = set()\n",
    "for s in data['production_companies'].str.split('|'):\n",
    "    liste_genres = set().union(s, liste_genres)\n",
    "liste_genres = list(liste_genres)\n",
    "liste_genres.remove('')"
   ]
  },
  {
   "cell_type": "code",
   "execution_count": 13,
   "metadata": {},
   "outputs": [],
   "source": [
    "data['cast'] = data['cast'].apply(pipe_flatten_names)"
   ]
  },
  {
   "cell_type": "code",
   "execution_count": 14,
   "metadata": {},
   "outputs": [],
   "source": [
    "liste_genres = set()\n",
    "for s in data['cast'].str.split('|'):\n",
    "    liste_genres = set().union(s, liste_genres)\n",
    "liste_genres = list(liste_genres)\n",
    "liste_genres.remove('')"
   ]
  },
  {
   "cell_type": "code",
   "execution_count": 15,
   "metadata": {},
   "outputs": [],
   "source": [
    "data['crew'] = data['crew'].apply(pipe_flatten_names)"
   ]
  },
  {
   "cell_type": "code",
   "execution_count": 16,
   "metadata": {},
   "outputs": [],
   "source": [
    "liste_genres = set()\n",
    "for s in data['crew'].str.split('|'):\n",
    "    liste_genres = set().union(s, liste_genres)\n",
    "liste_genres = list(liste_genres)\n",
    "liste_genres.remove('')"
   ]
  },
  {
   "cell_type": "code",
   "execution_count": 17,
   "metadata": {},
   "outputs": [],
   "source": [
    "data_reduced = data[['title','vote_average','release_date','runtime','budget','revenue','popularity','spoken_languages','production_companies','cast','crew']].reset_index(drop=True)"
   ]
  },
  {
   "cell_type": "code",
   "execution_count": 18,
   "metadata": {},
   "outputs": [
    {
     "data": {
      "text/html": [
       "<div>\n",
       "<style scoped>\n",
       "    .dataframe tbody tr th:only-of-type {\n",
       "        vertical-align: middle;\n",
       "    }\n",
       "\n",
       "    .dataframe tbody tr th {\n",
       "        vertical-align: top;\n",
       "    }\n",
       "\n",
       "    .dataframe thead th {\n",
       "        text-align: right;\n",
       "    }\n",
       "</style>\n",
       "<table border=\"1\" class=\"dataframe\">\n",
       "  <thead>\n",
       "    <tr style=\"text-align: right;\">\n",
       "      <th></th>\n",
       "      <th>title</th>\n",
       "      <th>vote_average</th>\n",
       "      <th>release_date</th>\n",
       "      <th>runtime</th>\n",
       "      <th>budget</th>\n",
       "      <th>revenue</th>\n",
       "      <th>popularity</th>\n",
       "      <th>spoken_languages</th>\n",
       "      <th>production_companies</th>\n",
       "      <th>cast</th>\n",
       "      <th>crew</th>\n",
       "      <th>release_year</th>\n",
       "    </tr>\n",
       "  </thead>\n",
       "  <tbody>\n",
       "    <tr>\n",
       "      <th>0</th>\n",
       "      <td>Avatar</td>\n",
       "      <td>7.2</td>\n",
       "      <td>2009-12-10</td>\n",
       "      <td>162.0</td>\n",
       "      <td>237000000</td>\n",
       "      <td>2787965087</td>\n",
       "      <td>150.437577</td>\n",
       "      <td>English|Español</td>\n",
       "      <td>Ingenious Film Partners|Twentieth Century Fox ...</td>\n",
       "      <td>Sam Worthington|Zoe Saldana|Sigourney Weaver|S...</td>\n",
       "      <td>Stephen E. Rivkin|Rick Carter|Christopher Boye...</td>\n",
       "      <td>2009.0</td>\n",
       "    </tr>\n",
       "    <tr>\n",
       "      <th>1</th>\n",
       "      <td>Pirates of the Caribbean: At World's End</td>\n",
       "      <td>6.9</td>\n",
       "      <td>2007-05-19</td>\n",
       "      <td>169.0</td>\n",
       "      <td>300000000</td>\n",
       "      <td>961000000</td>\n",
       "      <td>139.082615</td>\n",
       "      <td>English</td>\n",
       "      <td>Walt Disney Pictures|Jerry Bruckheimer Films|S...</td>\n",
       "      <td>Johnny Depp|Orlando Bloom|Keira Knightley|Stel...</td>\n",
       "      <td>Dariusz Wolski|Gore Verbinski|Jerry Bruckheime...</td>\n",
       "      <td>2007.0</td>\n",
       "    </tr>\n",
       "  </tbody>\n",
       "</table>\n",
       "</div>"
      ],
      "text/plain": [
       "                                      title  vote_average release_date  \\\n",
       "0                                    Avatar           7.2   2009-12-10   \n",
       "1  Pirates of the Caribbean: At World's End           6.9   2007-05-19   \n",
       "\n",
       "   runtime     budget     revenue  popularity spoken_languages  \\\n",
       "0    162.0  237000000  2787965087  150.437577  English|Español   \n",
       "1    169.0  300000000   961000000  139.082615          English   \n",
       "\n",
       "                                production_companies  \\\n",
       "0  Ingenious Film Partners|Twentieth Century Fox ...   \n",
       "1  Walt Disney Pictures|Jerry Bruckheimer Films|S...   \n",
       "\n",
       "                                                cast  \\\n",
       "0  Sam Worthington|Zoe Saldana|Sigourney Weaver|S...   \n",
       "1  Johnny Depp|Orlando Bloom|Keira Knightley|Stel...   \n",
       "\n",
       "                                                crew  release_year  \n",
       "0  Stephen E. Rivkin|Rick Carter|Christopher Boye...        2009.0  \n",
       "1  Dariusz Wolski|Gore Verbinski|Jerry Bruckheime...        2007.0  "
      ]
     },
     "execution_count": 18,
     "metadata": {},
     "output_type": "execute_result"
    }
   ],
   "source": [
    "year = pd.DatetimeIndex(data['release_date']).year\n",
    "month = pd.DatetimeIndex(data['release_date']).month\n",
    "data_reduced['release_year'] = year \n",
    "data_reduced.head(2)"
   ]
  },
  {
   "cell_type": "code",
   "execution_count": 19,
   "metadata": {},
   "outputs": [
    {
     "data": {
      "text/plain": [
       "Text(0.5,0,'month')"
      ]
     },
     "execution_count": 19,
     "metadata": {},
     "output_type": "execute_result"
    },
    {
     "data": {
      "image/png": "[encoded data removed]",
      "text/plain": [
       "<Figure size 432x288 with 1 Axes>"
      ]
     },
     "metadata": {},
     "output_type": "display_data"
    }
   ],
   "source": [
    "plt.scatter(month,data_reduced['revenue'])\n",
    "plt.ylabel('revenue(milions)')\n",
    "plt.xlabel('month')"
   ]
  },
  {
   "cell_type": "code",
   "execution_count": 20,
   "metadata": {},
   "outputs": [
    {
     "data": {
      "text/plain": [
       "Text(0.5,1,'scatter plot between vote_average and revenue')"
      ]
     },
     "execution_count": 20,
     "metadata": {},
     "output_type": "execute_result"
    },
    {
     "data": {
      "image/png": "[encoded data removed]",
      "text/plain": [
       "<Figure size 432x288 with 1 Axes>"
      ]
     },
     "metadata": {},
     "output_type": "display_data"
    }
   ],
   "source": [
    "plt.scatter(data_reduced['vote_average'],data_reduced['revenue'])\n",
    "plt.xlabel('vote_average')\n",
    "plt.ylabel('revenue')\n",
    "plt.title('scatter plot between vote_average and revenue')"
   ]
  },
  {
   "cell_type": "code",
   "execution_count": 21,
   "metadata": {},
   "outputs": [
    {
     "data": {
      "text/plain": [
       "Text(0.5,1,'scatter plot between budget and revenue')"
      ]
     },
     "execution_count": 21,
     "metadata": {},
     "output_type": "execute_result"
    },
    {
     "data": {
      "image/png": "[encoded data removed]",
      "text/plain": [
       "<Figure size 432x288 with 1 Axes>"
      ]
     },
     "metadata": {},
     "output_type": "display_data"
    }
   ],
   "source": [
    "plt.scatter(data_reduced['budget'],data_reduced['revenue'])\n",
    "plt.xlabel('budget')\n",
    "plt.ylabel('revenue')\n",
    "plt.title('scatter plot between budget and revenue')"
   ]
  },
  {
   "cell_type": "code",
   "execution_count": 22,
   "metadata": {},
   "outputs": [
    {
     "data": {
      "text/plain": [
       "<seaborn.axisgrid.FacetGrid at 0x7f1f00716898>"
      ]
     },
     "execution_count": 22,
     "metadata": {},
     "output_type": "execute_result"
    },
    {
     "data": {
      "image/png": "[encoded data removed]",
      "text/plain": [
       "<Figure size 360x360 with 1 Axes>"
      ]
     },
     "metadata": {},
     "output_type": "display_data"
    }
   ],
   "source": [
    "sns.lmplot(x='vote_average', y='revenue',data = data_reduced)"
   ]
  },
  {
   "cell_type": "code",
   "execution_count": 23,
   "metadata": {},
   "outputs": [
    {
     "data": {
      "image/png": "[encoded data removed]",
      "text/plain": [
       "<Figure size 432x288 with 1 Axes>"
      ]
     },
     "metadata": {},
     "output_type": "display_data"
    }
   ],
   "source": [
    "plt.hist(data_reduced['revenue'], normed=True, bins=30)\n",
    "plt.title('Revenue Histogram(milions)');"
   ]
  },
  {
   "cell_type": "code",
   "execution_count": 24,
   "metadata": {},
   "outputs": [
    {
     "data": {
      "text/plain": [
       "2787965087"
      ]
     },
     "execution_count": 24,
     "metadata": {},
     "output_type": "execute_result"
    }
   ],
   "source": [
    "data_reduced['revenue'].max()"
   ]
  },
  {
   "cell_type": "code",
   "execution_count": 25,
   "metadata": {},
   "outputs": [
    {
     "name": "stdout",
     "output_type": "stream",
     "text": [
      "1\n"
     ]
    }
   ],
   "source": [
    "count = 0\n",
    "for i in data_reduced['revenue']:\n",
    "    if i == 2787965087:\n",
    "        count +=1\n",
    "print(count)"
   ]
  },
  {
   "cell_type": "code",
   "execution_count": 26,
   "metadata": {},
   "outputs": [
    {
     "data": {
      "text/plain": [
       "(array([0]),)"
      ]
     },
     "execution_count": 26,
     "metadata": {},
     "output_type": "execute_result"
    }
   ],
   "source": [
    "np.where(data_reduced['revenue'] == 2787965087)"
   ]
  },
  {
   "cell_type": "code",
   "execution_count": null,
   "metadata": {},
   "outputs": [],
   "source": [
    "for genre in liste_genres:\n",
    "    data_reduced[genre] = data['genres'].str.contains(genre).apply(lambda x:1 if x else 0)\n",
    "data_reduced[:5]"
   ]
  },
  {
   "cell_type": "code",
   "execution_count": null,
   "metadata": {},
   "outputs": [],
   "source": [
    "\"\"\"\"\n",
    "plt.rc('font', weight='bold')\n",
    "f, ax = plt.subplots(figsize=(5,5))\n",
    "genre_count = []\n",
    "for genre in liste_genres:\n",
    "    genre_count.append([genre, data_reduced[genre].values.sum()])\n",
    "genre_count.sort(key = lambda x:x[1], reverse = True)\n",
    "labels, sizes = zip(*genre_count)\n",
    "labels_selected = [n if v > sum(sizes) * 0.01 else '' for n, v in genre_count]\n",
    "ax.pie(sizes, labels=labels_selected,\n",
    "      autopct = lambda x:'{:2.0f}%'.format(x) if x>1 else '',\n",
    "      shadow = False, startangle=0)\n",
    "ax.axis('equal')\n",
    "plt.tight_layout()\n",
    "\"\"\""
   ]
  },
  {
   "cell_type": "code",
   "execution_count": null,
   "metadata": {},
   "outputs": [],
   "source": [
    "data_list = []*len(liste_genres)\n",
    "for genre in liste_genres:\n",
    "    data_list.append(data_reduced.groupby([genre,'release_year']).mean().reset_index())"
   ]
  },
  {
   "cell_type": "code",
   "execution_count": null,
   "metadata": {},
   "outputs": [],
   "source": [
    "data_per_genre = []*len(liste_genres)\n",
    "for i in range(len(data_list)):\n",
    "    data_per_genre.append(data_list[i][data_list[i].ix[:,0] == 1])"
   ]
  },
  {
   "cell_type": "code",
   "execution_count": null,
   "metadata": {},
   "outputs": [],
   "source": [
    "columns = range(1988,2018)\n",
    "budget_genre = pd.DataFrame( columns = columns)\n",
    "budget_genre"
   ]
  },
  {
   "cell_type": "code",
   "execution_count": null,
   "metadata": {},
   "outputs": [],
   "source": [
    "for genre in liste_genres:\n",
    "    temp=(data_per_genre[liste_genres.index(genre)].pivot_table(index = genre, columns = 'release_year', values = 'budget', aggfunc = np.mean))\n",
    "    temp = temp[temp.columns[-30:]].loc[1]\n",
    "    budget_genre.loc[liste_genres.index(genre)]=temp\n",
    "budget_genre['genre']=liste_genres"
   ]
  },
  {
   "cell_type": "code",
   "execution_count": null,
   "metadata": {},
   "outputs": [],
   "source": [
    "budget_genre.index = budget_genre['genre']\n",
    "budget_genre"
   ]
  },
  {
   "cell_type": "code",
   "execution_count": null,
   "metadata": {},
   "outputs": [],
   "source": [
    "columns = range(1988,2018)\n",
    "revenue_genre = pd.DataFrame( columns = columns)\n",
    "revenue_genre"
   ]
  },
  {
   "cell_type": "code",
   "execution_count": null,
   "metadata": {},
   "outputs": [],
   "source": [
    "for genre in liste_genres:\n",
    "    temp=(data_per_genre[liste_genres.index(genre)].pivot_table(index = genre, columns = 'release_year', values = 'revenue', aggfunc = np.mean))\n",
    "    temp = temp[temp.columns[-30:]].loc[1]\n",
    "    revenue_genre.loc[liste_genres.index(genre)]=temp\n",
    "revenue_genre['genre']=liste_genres"
   ]
  },
  {
   "cell_type": "code",
   "execution_count": null,
   "metadata": {},
   "outputs": [],
   "source": [
    "revenue_genre.index = revenue_genre['genre']\n",
    "revenue_genre"
   ]
  },
  {
   "cell_type": "code",
   "execution_count": null,
   "metadata": {},
   "outputs": [],
   "source": [
    "for genre in liste_genres:\n",
    "    temp=(data_per_genre[liste_genres.index(genre)].pivot_table(index = genre, columns = 'release_year', values = 'vote_average', aggfunc = np.mean))\n",
    "    temp = temp[temp.columns[-30:]].loc[1]\n",
    "    vote_avg_genre.loc[liste_genres.index(genre)]=temp\n",
    "vote_avg_genre['genre']=liste_genres"
   ]
  },
  {
   "cell_type": "code",
   "execution_count": null,
   "metadata": {},
   "outputs": [],
   "source": [
    "vote_avg_genre.index = vote_avg_genre['genre']\n",
    "vote_avg_genre"
   ]
  },
  {
   "cell_type": "code",
   "execution_count": null,
   "metadata": {},
   "outputs": [],
   "source": [
    "fig, ax = plt.subplots(figsize=(9,9))\n",
    "cmap = sns.cubehelix_palette(start = 1.5, rot = 1.5, as_cmap = True)\n",
    "sns.heatmap(budget_genre.ix[:,0:30], xticklabels=3, cmap=cmap, linewidths=0.05)"
   ]
  },
  {
   "cell_type": "code",
   "execution_count": null,
   "metadata": {},
   "outputs": [],
   "source": [
    "fig, ax = plt.subplots(figsize=(9,9))\n",
    "cmap = sns.cubehelix_palette(start = 1.5, rot = 1.5, as_cmap = True)\n",
    "sns.heatmap(revenue_genre.ix[:,0:30], xticklabels=3, cmap=cmap, linewidths=0.05)"
   ]
  },
  {
   "cell_type": "code",
   "execution_count": null,
   "metadata": {},
   "outputs": [],
   "source": [
    "fig, ax = plt.subplots(figsize=(9,9))\n",
    "cmap = sns.cubehelix_palette(start = 1.5, rot = 1.5, as_cmap = True)\n",
    "sns.heatmap(vote_avg_genre.ix[:,0:30], xticklabels=3, cmap=cmap, linewidths=0.05)"
   ]
  },
  {
   "cell_type": "code",
   "execution_count": null,
   "metadata": {},
   "outputs": [],
   "source": [
    "temp = budget_genre\n",
    "temp"
   ]
  },
  {
   "cell_type": "code",
   "execution_count": null,
   "metadata": {},
   "outputs": [],
   "source": [
    "temp[2013]=temp[2013].replace(2.550000e+08, 0)"
   ]
  },
  {
   "cell_type": "code",
   "execution_count": null,
   "metadata": {},
   "outputs": [],
   "source": [
    "fig, ax = plt.subplots(figsize=(9,9))\n",
    "cmap = sns.cubehelix_palette(start = 1.5, rot = 1.5, as_cmap = True)\n",
    "sns.heatmap(temp.ix[:,0:30], xticklabels=3, cmap=cmap, linewidths=0.05)"
   ]
  },
  {
   "cell_type": "code",
   "execution_count": null,
   "metadata": {},
   "outputs": [],
   "source": []
  }
 ],
 "metadata": {
  "kernelspec": {
   "display_name": "learn_flask",
   "language": "python",
   "name": "learn_flask"
  },
  "language_info": {
   "codemirror_mode": {
    "name": "ipython",
    "version": 3
   },
   "file_extension": ".py",
   "mimetype": "text/x-python",
   "name": "python",
   "nbconvert_exporter": "python",
   "pygments_lexer": "ipython3",
   "version": "3.5.2"
  }
 },
 "nbformat": 4,
 "nbformat_minor": 2
}
